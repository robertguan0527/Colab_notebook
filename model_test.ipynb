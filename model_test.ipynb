{
  "nbformat": 4,
  "nbformat_minor": 0,
  "metadata": {
    "colab": {
      "name": "model_test.ipynb",
      "provenance": [],
      "mount_file_id": "1Ev-Raj0tZTCTbZy_oSPBWEgtvdhD4ZM2",
      "authorship_tag": "ABX9TyOHAJUVn/ctw9rExuEYyAei",
      "include_colab_link": true
    },
    "kernelspec": {
      "name": "python3",
      "display_name": "Python 3"
    },
    "language_info": {
      "name": "python"
    }
  },
  "cells": [
    {
      "cell_type": "markdown",
      "metadata": {
        "id": "view-in-github",
        "colab_type": "text"
      },
      "source": [
        "<a href=\"https://colab.research.google.com/github/robertguan0527/Colab_notebook/blob/main/model_test.ipynb\" target=\"_parent\"><img src=\"https://colab.research.google.com/assets/colab-badge.svg\" alt=\"Open In Colab\"/></a>"
      ]
    },
    {
      "cell_type": "markdown",
      "metadata": {
        "id": "7mFHRv6pBM93"
      },
      "source": [
        "Use the model_best to test model"
      ]
    },
    {
      "cell_type": "code",
      "metadata": {
        "id": "QtzYDUQDBUza"
      },
      "source": [
        ""
      ],
      "execution_count": null,
      "outputs": []
    }
  ]
}